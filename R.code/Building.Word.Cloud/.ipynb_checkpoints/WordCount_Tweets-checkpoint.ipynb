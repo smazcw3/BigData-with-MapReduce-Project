{
 "cells": [
  {
   "cell_type": "code",
   "execution_count": null,
   "metadata": {
    "collapsed": true
   },
   "outputs": [],
   "source": [
    "#Loading the library\n",
    "library(wordcloud)\n",
    "\n",
    "#To suppress warnings\n",
    "options(warn=-1)\n",
    "\n",
    "#Reading the results obtained by running \"word count\" on tweets\n",
    "word_count <- read.table(\"part-r-00000.txt\", header=T, fill = TRUE ,sep=\"\\t\")\n",
    "colnames(word_count) <- c(\"word\", \"count\")\n",
    "\n",
    "# plotting wordcloud\n",
    "set.seed(1234)\n",
    "wordcloud(words = word_count$word, freq = word_count$count, min.freq = 7, max.words=150 ,random.order=FALSE, rot.per=0.35 ,colors=brewer.pal(8, \"Dark2\"))"
   ]
  }
 ],
 "metadata": {
  "anaconda-cloud": {},
  "kernelspec": {
   "display_name": "R",
   "language": "R",
   "name": "ir"
  },
  "language_info": {
   "codemirror_mode": "r",
   "file_extension": ".r",
   "mimetype": "text/x-r-source",
   "name": "R",
   "pygments_lexer": "r",
   "version": "3.3.2"
  }
 },
 "nbformat": 4,
 "nbformat_minor": 1
}
